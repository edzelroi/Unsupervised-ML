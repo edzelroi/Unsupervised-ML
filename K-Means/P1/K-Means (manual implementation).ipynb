{
 "cells": [
  {
   "cell_type": "code",
   "execution_count": 173,
   "id": "6e56e423-9a9b-4729-b651-5d01b6dc5aef",
   "metadata": {
    "tags": []
   },
   "outputs": [],
   "source": [
    "import pandas as pd\n",
    "import matplotlib.pyplot as plt\n",
    "from sklearn.preprocessing import StandardScaler, MinMaxScaler\n",
    "from sklearn.cluster import KMeans\n",
    "import numpy as np"
   ]
  },
  {
   "cell_type": "markdown",
   "id": "de697a8b-517f-4f91-8dd4-bb0af42b864e",
   "metadata": {},
   "source": [
    "DATA"
   ]
  },
  {
   "cell_type": "code",
   "execution_count": 174,
   "id": "4a11a168-6b49-4779-8afe-be38de4fdb5a",
   "metadata": {
    "tags": []
   },
   "outputs": [],
   "source": [
    "df =pd.read_csv('data/force2020_data_unsupervised_learning.csv')"
   ]
  },
  {
   "cell_type": "code",
   "execution_count": 175,
   "id": "f6fcc3e5-bb74-4ab8-8196-4615d52c0857",
   "metadata": {
    "tags": []
   },
   "outputs": [
    {
     "data": {
      "text/html": [
       "<div>\n",
       "<style scoped>\n",
       "    .dataframe tbody tr th:only-of-type {\n",
       "        vertical-align: middle;\n",
       "    }\n",
       "\n",
       "    .dataframe tbody tr th {\n",
       "        vertical-align: top;\n",
       "    }\n",
       "\n",
       "    .dataframe thead th {\n",
       "        text-align: right;\n",
       "    }\n",
       "</style>\n",
       "<table border=\"1\" class=\"dataframe\">\n",
       "  <thead>\n",
       "    <tr style=\"text-align: right;\">\n",
       "      <th></th>\n",
       "      <th>RHOB</th>\n",
       "      <th>GR</th>\n",
       "      <th>DEPTH_MD</th>\n",
       "      <th>NPHI</th>\n",
       "      <th>PEF</th>\n",
       "      <th>DTC</th>\n",
       "    </tr>\n",
       "  </thead>\n",
       "  <tbody>\n",
       "    <tr>\n",
       "      <th>0</th>\n",
       "      <td>1.884186</td>\n",
       "      <td>80.200851</td>\n",
       "      <td>494.528</td>\n",
       "      <td>NaN</td>\n",
       "      <td>20.915468</td>\n",
       "      <td>161.131180</td>\n",
       "    </tr>\n",
       "    <tr>\n",
       "      <th>1</th>\n",
       "      <td>1.889794</td>\n",
       "      <td>79.262886</td>\n",
       "      <td>494.680</td>\n",
       "      <td>NaN</td>\n",
       "      <td>19.383013</td>\n",
       "      <td>160.603470</td>\n",
       "    </tr>\n",
       "    <tr>\n",
       "      <th>2</th>\n",
       "      <td>1.896523</td>\n",
       "      <td>74.821999</td>\n",
       "      <td>494.832</td>\n",
       "      <td>NaN</td>\n",
       "      <td>22.591518</td>\n",
       "      <td>160.173615</td>\n",
       "    </tr>\n",
       "    <tr>\n",
       "      <th>3</th>\n",
       "      <td>1.891913</td>\n",
       "      <td>72.878922</td>\n",
       "      <td>494.984</td>\n",
       "      <td>NaN</td>\n",
       "      <td>32.191910</td>\n",
       "      <td>160.149429</td>\n",
       "    </tr>\n",
       "    <tr>\n",
       "      <th>4</th>\n",
       "      <td>1.880034</td>\n",
       "      <td>71.729141</td>\n",
       "      <td>495.136</td>\n",
       "      <td>NaN</td>\n",
       "      <td>38.495632</td>\n",
       "      <td>160.128342</td>\n",
       "    </tr>\n",
       "  </tbody>\n",
       "</table>\n",
       "</div>"
      ],
      "text/plain": [
       "       RHOB         GR  DEPTH_MD  NPHI        PEF         DTC\n",
       "0  1.884186  80.200851   494.528   NaN  20.915468  161.131180\n",
       "1  1.889794  79.262886   494.680   NaN  19.383013  160.603470\n",
       "2  1.896523  74.821999   494.832   NaN  22.591518  160.173615\n",
       "3  1.891913  72.878922   494.984   NaN  32.191910  160.149429\n",
       "4  1.880034  71.729141   495.136   NaN  38.495632  160.128342"
      ]
     },
     "execution_count": 175,
     "metadata": {},
     "output_type": "execute_result"
    }
   ],
   "source": [
    "df.head()"
   ]
  },
  {
   "cell_type": "code",
   "execution_count": 176,
   "id": "cc577afe-d642-4f7c-8df7-5af667c29583",
   "metadata": {
    "tags": []
   },
   "outputs": [],
   "source": [
    "features = ['RHOB', 'NPHI']"
   ]
  },
  {
   "cell_type": "markdown",
   "id": "66ff87ae-1ded-46aa-af9f-946ac3a95973",
   "metadata": {},
   "source": [
    "PREPROCESSING DATA"
   ]
  },
  {
   "cell_type": "code",
   "execution_count": 177,
   "id": "4dbe4555-94b8-486e-ae93-6aad1d8ffe66",
   "metadata": {
    "tags": []
   },
   "outputs": [],
   "source": [
    "df = df.dropna(subset=features)"
   ]
  },
  {
   "cell_type": "code",
   "execution_count": 178,
   "id": "a6402ed1-46e9-4930-aabe-97ec2bf11411",
   "metadata": {
    "tags": []
   },
   "outputs": [
    {
     "data": {
      "text/html": [
       "<div>\n",
       "<style scoped>\n",
       "    .dataframe tbody tr th:only-of-type {\n",
       "        vertical-align: middle;\n",
       "    }\n",
       "\n",
       "    .dataframe tbody tr th {\n",
       "        vertical-align: top;\n",
       "    }\n",
       "\n",
       "    .dataframe thead th {\n",
       "        text-align: right;\n",
       "    }\n",
       "</style>\n",
       "<table border=\"1\" class=\"dataframe\">\n",
       "  <thead>\n",
       "    <tr style=\"text-align: right;\">\n",
       "      <th></th>\n",
       "      <th>RHOB</th>\n",
       "      <th>GR</th>\n",
       "      <th>DEPTH_MD</th>\n",
       "      <th>NPHI</th>\n",
       "      <th>PEF</th>\n",
       "      <th>DTC</th>\n",
       "    </tr>\n",
       "  </thead>\n",
       "  <tbody>\n",
       "    <tr>\n",
       "      <th>4238</th>\n",
       "      <td>1.774626</td>\n",
       "      <td>55.892757</td>\n",
       "      <td>1138.704</td>\n",
       "      <td>0.765867</td>\n",
       "      <td>1.631495</td>\n",
       "      <td>147.837677</td>\n",
       "    </tr>\n",
       "    <tr>\n",
       "      <th>4239</th>\n",
       "      <td>1.800986</td>\n",
       "      <td>60.929138</td>\n",
       "      <td>1138.856</td>\n",
       "      <td>0.800262</td>\n",
       "      <td>1.645080</td>\n",
       "      <td>142.382431</td>\n",
       "    </tr>\n",
       "    <tr>\n",
       "      <th>4240</th>\n",
       "      <td>1.817696</td>\n",
       "      <td>62.117264</td>\n",
       "      <td>1139.008</td>\n",
       "      <td>0.765957</td>\n",
       "      <td>1.645873</td>\n",
       "      <td>138.258331</td>\n",
       "    </tr>\n",
       "    <tr>\n",
       "      <th>4241</th>\n",
       "      <td>1.829333</td>\n",
       "      <td>61.010860</td>\n",
       "      <td>1139.160</td>\n",
       "      <td>0.702521</td>\n",
       "      <td>1.620216</td>\n",
       "      <td>139.198914</td>\n",
       "    </tr>\n",
       "    <tr>\n",
       "      <th>4242</th>\n",
       "      <td>1.813854</td>\n",
       "      <td>58.501236</td>\n",
       "      <td>1139.312</td>\n",
       "      <td>0.639708</td>\n",
       "      <td>1.504854</td>\n",
       "      <td>144.290085</td>\n",
       "    </tr>\n",
       "    <tr>\n",
       "      <th>...</th>\n",
       "      <td>...</td>\n",
       "      <td>...</td>\n",
       "      <td>...</td>\n",
       "      <td>...</td>\n",
       "      <td>...</td>\n",
       "      <td>...</td>\n",
       "    </tr>\n",
       "    <tr>\n",
       "      <th>18265</th>\n",
       "      <td>2.630211</td>\n",
       "      <td>19.418915</td>\n",
       "      <td>3271.416</td>\n",
       "      <td>0.187811</td>\n",
       "      <td>NaN</td>\n",
       "      <td>NaN</td>\n",
       "    </tr>\n",
       "    <tr>\n",
       "      <th>18266</th>\n",
       "      <td>2.643114</td>\n",
       "      <td>21.444370</td>\n",
       "      <td>3271.568</td>\n",
       "      <td>0.185574</td>\n",
       "      <td>NaN</td>\n",
       "      <td>NaN</td>\n",
       "    </tr>\n",
       "    <tr>\n",
       "      <th>18267</th>\n",
       "      <td>2.681300</td>\n",
       "      <td>22.646879</td>\n",
       "      <td>3271.720</td>\n",
       "      <td>0.176074</td>\n",
       "      <td>NaN</td>\n",
       "      <td>NaN</td>\n",
       "    </tr>\n",
       "    <tr>\n",
       "      <th>18268</th>\n",
       "      <td>2.738337</td>\n",
       "      <td>22.253584</td>\n",
       "      <td>3271.872</td>\n",
       "      <td>0.174617</td>\n",
       "      <td>NaN</td>\n",
       "      <td>NaN</td>\n",
       "    </tr>\n",
       "    <tr>\n",
       "      <th>18269</th>\n",
       "      <td>2.792922</td>\n",
       "      <td>19.829920</td>\n",
       "      <td>3272.024</td>\n",
       "      <td>0.176627</td>\n",
       "      <td>NaN</td>\n",
       "      <td>NaN</td>\n",
       "    </tr>\n",
       "  </tbody>\n",
       "</table>\n",
       "<p>14032 rows × 6 columns</p>\n",
       "</div>"
      ],
      "text/plain": [
       "           RHOB         GR  DEPTH_MD      NPHI       PEF         DTC\n",
       "4238   1.774626  55.892757  1138.704  0.765867  1.631495  147.837677\n",
       "4239   1.800986  60.929138  1138.856  0.800262  1.645080  142.382431\n",
       "4240   1.817696  62.117264  1139.008  0.765957  1.645873  138.258331\n",
       "4241   1.829333  61.010860  1139.160  0.702521  1.620216  139.198914\n",
       "4242   1.813854  58.501236  1139.312  0.639708  1.504854  144.290085\n",
       "...         ...        ...       ...       ...       ...         ...\n",
       "18265  2.630211  19.418915  3271.416  0.187811       NaN         NaN\n",
       "18266  2.643114  21.444370  3271.568  0.185574       NaN         NaN\n",
       "18267  2.681300  22.646879  3271.720  0.176074       NaN         NaN\n",
       "18268  2.738337  22.253584  3271.872  0.174617       NaN         NaN\n",
       "18269  2.792922  19.829920  3272.024  0.176627       NaN         NaN\n",
       "\n",
       "[14032 rows x 6 columns]"
      ]
     },
     "execution_count": 178,
     "metadata": {},
     "output_type": "execute_result"
    }
   ],
   "source": [
    "df"
   ]
  },
  {
   "cell_type": "code",
   "execution_count": 179,
   "id": "9b6beb89-d535-4a4e-a663-4f55aa85890b",
   "metadata": {
    "tags": []
   },
   "outputs": [],
   "source": [
    "data =df[features].copy()"
   ]
  },
  {
   "cell_type": "code",
   "execution_count": 180,
   "id": "123aa1b9-b7a9-4862-9b1a-b62ac75b6965",
   "metadata": {
    "tags": []
   },
   "outputs": [
    {
     "data": {
      "text/html": [
       "<div>\n",
       "<style scoped>\n",
       "    .dataframe tbody tr th:only-of-type {\n",
       "        vertical-align: middle;\n",
       "    }\n",
       "\n",
       "    .dataframe tbody tr th {\n",
       "        vertical-align: top;\n",
       "    }\n",
       "\n",
       "    .dataframe thead th {\n",
       "        text-align: right;\n",
       "    }\n",
       "</style>\n",
       "<table border=\"1\" class=\"dataframe\">\n",
       "  <thead>\n",
       "    <tr style=\"text-align: right;\">\n",
       "      <th></th>\n",
       "      <th>RHOB</th>\n",
       "      <th>NPHI</th>\n",
       "    </tr>\n",
       "  </thead>\n",
       "  <tbody>\n",
       "    <tr>\n",
       "      <th>4238</th>\n",
       "      <td>1.774626</td>\n",
       "      <td>0.765867</td>\n",
       "    </tr>\n",
       "    <tr>\n",
       "      <th>4239</th>\n",
       "      <td>1.800986</td>\n",
       "      <td>0.800262</td>\n",
       "    </tr>\n",
       "    <tr>\n",
       "      <th>4240</th>\n",
       "      <td>1.817696</td>\n",
       "      <td>0.765957</td>\n",
       "    </tr>\n",
       "    <tr>\n",
       "      <th>4241</th>\n",
       "      <td>1.829333</td>\n",
       "      <td>0.702521</td>\n",
       "    </tr>\n",
       "    <tr>\n",
       "      <th>4242</th>\n",
       "      <td>1.813854</td>\n",
       "      <td>0.639708</td>\n",
       "    </tr>\n",
       "    <tr>\n",
       "      <th>...</th>\n",
       "      <td>...</td>\n",
       "      <td>...</td>\n",
       "    </tr>\n",
       "    <tr>\n",
       "      <th>18265</th>\n",
       "      <td>2.630211</td>\n",
       "      <td>0.187811</td>\n",
       "    </tr>\n",
       "    <tr>\n",
       "      <th>18266</th>\n",
       "      <td>2.643114</td>\n",
       "      <td>0.185574</td>\n",
       "    </tr>\n",
       "    <tr>\n",
       "      <th>18267</th>\n",
       "      <td>2.681300</td>\n",
       "      <td>0.176074</td>\n",
       "    </tr>\n",
       "    <tr>\n",
       "      <th>18268</th>\n",
       "      <td>2.738337</td>\n",
       "      <td>0.174617</td>\n",
       "    </tr>\n",
       "    <tr>\n",
       "      <th>18269</th>\n",
       "      <td>2.792922</td>\n",
       "      <td>0.176627</td>\n",
       "    </tr>\n",
       "  </tbody>\n",
       "</table>\n",
       "<p>14032 rows × 2 columns</p>\n",
       "</div>"
      ],
      "text/plain": [
       "           RHOB      NPHI\n",
       "4238   1.774626  0.765867\n",
       "4239   1.800986  0.800262\n",
       "4240   1.817696  0.765957\n",
       "4241   1.829333  0.702521\n",
       "4242   1.813854  0.639708\n",
       "...         ...       ...\n",
       "18265  2.630211  0.187811\n",
       "18266  2.643114  0.185574\n",
       "18267  2.681300  0.176074\n",
       "18268  2.738337  0.174617\n",
       "18269  2.792922  0.176627\n",
       "\n",
       "[14032 rows x 2 columns]"
      ]
     },
     "execution_count": 180,
     "metadata": {},
     "output_type": "execute_result"
    }
   ],
   "source": [
    "data"
   ]
  },
  {
   "cell_type": "markdown",
   "id": "b901b8ed-1d1f-42c8-8168-02e31af7704d",
   "metadata": {},
   "source": [
    "NORMALIZING DATA"
   ]
  },
  {
   "cell_type": "code",
   "execution_count": 181,
   "id": "c58cfdba-778e-4968-a608-91b5a81c3519",
   "metadata": {},
   "outputs": [
    {
     "data": {
      "text/html": [
       "<div>\n",
       "<style scoped>\n",
       "    .dataframe tbody tr th:only-of-type {\n",
       "        vertical-align: middle;\n",
       "    }\n",
       "\n",
       "    .dataframe tbody tr th {\n",
       "        vertical-align: top;\n",
       "    }\n",
       "\n",
       "    .dataframe thead th {\n",
       "        text-align: right;\n",
       "    }\n",
       "</style>\n",
       "<table border=\"1\" class=\"dataframe\">\n",
       "  <thead>\n",
       "    <tr style=\"text-align: right;\">\n",
       "      <th></th>\n",
       "      <th>RHOB</th>\n",
       "      <th>NPHI</th>\n",
       "    </tr>\n",
       "  </thead>\n",
       "  <tbody>\n",
       "    <tr>\n",
       "      <th>4238</th>\n",
       "      <td>2.764332</td>\n",
       "      <td>9.601053</td>\n",
       "    </tr>\n",
       "    <tr>\n",
       "      <th>4239</th>\n",
       "      <td>2.929717</td>\n",
       "      <td>10.000000</td>\n",
       "    </tr>\n",
       "    <tr>\n",
       "      <th>4240</th>\n",
       "      <td>3.034558</td>\n",
       "      <td>9.602097</td>\n",
       "    </tr>\n",
       "    <tr>\n",
       "      <th>4241</th>\n",
       "      <td>3.107571</td>\n",
       "      <td>8.866305</td>\n",
       "    </tr>\n",
       "    <tr>\n",
       "      <th>4242</th>\n",
       "      <td>3.010451</td>\n",
       "      <td>8.137735</td>\n",
       "    </tr>\n",
       "    <tr>\n",
       "      <th>...</th>\n",
       "      <td>...</td>\n",
       "      <td>...</td>\n",
       "    </tr>\n",
       "    <tr>\n",
       "      <th>18265</th>\n",
       "      <td>8.132349</td>\n",
       "      <td>2.896205</td>\n",
       "    </tr>\n",
       "    <tr>\n",
       "      <th>18266</th>\n",
       "      <td>8.213302</td>\n",
       "      <td>2.870265</td>\n",
       "    </tr>\n",
       "    <tr>\n",
       "      <th>18267</th>\n",
       "      <td>8.452886</td>\n",
       "      <td>2.760068</td>\n",
       "    </tr>\n",
       "    <tr>\n",
       "      <th>18268</th>\n",
       "      <td>8.810741</td>\n",
       "      <td>2.743174</td>\n",
       "    </tr>\n",
       "    <tr>\n",
       "      <th>18269</th>\n",
       "      <td>9.153210</td>\n",
       "      <td>2.766480</td>\n",
       "    </tr>\n",
       "  </tbody>\n",
       "</table>\n",
       "<p>14032 rows × 2 columns</p>\n",
       "</div>"
      ],
      "text/plain": [
       "           RHOB       NPHI\n",
       "4238   2.764332   9.601053\n",
       "4239   2.929717  10.000000\n",
       "4240   3.034558   9.602097\n",
       "4241   3.107571   8.866305\n",
       "4242   3.010451   8.137735\n",
       "...         ...        ...\n",
       "18265  8.132349   2.896205\n",
       "18266  8.213302   2.870265\n",
       "18267  8.452886   2.760068\n",
       "18268  8.810741   2.743174\n",
       "18269  9.153210   2.766480\n",
       "\n",
       "[14032 rows x 2 columns]"
      ]
     },
     "execution_count": 181,
     "metadata": {},
     "output_type": "execute_result"
    }
   ],
   "source": [
    "data = ((data-data.min()) / (data.max() - data.min())) * 9 + 1\n",
    "data"
   ]
  },
  {
   "cell_type": "markdown",
   "id": "a07542e6-68e2-4894-8735-769cad707530",
   "metadata": {},
   "source": [
    "GETTING RANDOM CENTROIDS"
   ]
  },
  {
   "cell_type": "code",
   "execution_count": 182,
   "id": "14952b0e-bbe3-40c6-9d87-17d890414847",
   "metadata": {
    "tags": []
   },
   "outputs": [],
   "source": [
    "def random_cenroids(data, k):\n",
    "    centroids = []\n",
    "    for i in range(k):\n",
    "        centroid = data.apply(lambda x: float(x.sample()))\n",
    "        centroids.append(centroid)\n",
    "    return pd.concat(centroids, axis=1)"
   ]
  },
  {
   "cell_type": "code",
   "execution_count": 183,
   "id": "ca8cbd08-7b7b-46b8-beed-8509accad45b",
   "metadata": {
    "tags": []
   },
   "outputs": [
    {
     "name": "stderr",
     "output_type": "stream",
     "text": [
      "C:\\Users\\Edzel\\AppData\\Local\\Temp\\ipykernel_4904\\3240149550.py:4: FutureWarning: Calling float on a single element Series is deprecated and will raise a TypeError in the future. Use float(ser.iloc[0]) instead\n",
      "  centroid = data.apply(lambda x: float(x.sample()))\n"
     ]
    },
    {
     "data": {
      "text/html": [
       "<div>\n",
       "<style scoped>\n",
       "    .dataframe tbody tr th:only-of-type {\n",
       "        vertical-align: middle;\n",
       "    }\n",
       "\n",
       "    .dataframe tbody tr th {\n",
       "        vertical-align: top;\n",
       "    }\n",
       "\n",
       "    .dataframe thead th {\n",
       "        text-align: right;\n",
       "    }\n",
       "</style>\n",
       "<table border=\"1\" class=\"dataframe\">\n",
       "  <thead>\n",
       "    <tr style=\"text-align: right;\">\n",
       "      <th></th>\n",
       "      <th>0</th>\n",
       "      <th>1</th>\n",
       "      <th>2</th>\n",
       "    </tr>\n",
       "  </thead>\n",
       "  <tbody>\n",
       "    <tr>\n",
       "      <th>RHOB</th>\n",
       "      <td>7.489614</td>\n",
       "      <td>7.821924</td>\n",
       "      <td>6.261112</td>\n",
       "    </tr>\n",
       "    <tr>\n",
       "      <th>NPHI</th>\n",
       "      <td>6.238065</td>\n",
       "      <td>4.306581</td>\n",
       "      <td>2.606514</td>\n",
       "    </tr>\n",
       "  </tbody>\n",
       "</table>\n",
       "</div>"
      ],
      "text/plain": [
       "             0         1         2\n",
       "RHOB  7.489614  7.821924  6.261112\n",
       "NPHI  6.238065  4.306581  2.606514"
      ]
     },
     "execution_count": 183,
     "metadata": {},
     "output_type": "execute_result"
    }
   ],
   "source": [
    "centroids = random_cenroids(data, 3)\n",
    "centroids"
   ]
  },
  {
   "cell_type": "markdown",
   "id": "d94224bb-3735-49b8-862b-a45b8696d071",
   "metadata": {},
   "source": [
    "CLUSTERING: CALCULATING EUCLIDEAN DISTANCE RELATIVE TO THE CENTROIDS"
   ]
  },
  {
   "cell_type": "code",
   "execution_count": 184,
   "id": "890bc3aa-f905-4424-9ddf-cf74c9c2db4e",
   "metadata": {
    "tags": []
   },
   "outputs": [],
   "source": [
    "def get_labels(data, centroids):\n",
    "    distances = centroids.apply (lambda x: np.sqrt(((data - x)**2).sum(axis=1)))\n",
    "    return distances.idxmin(axis=1)"
   ]
  },
  {
   "cell_type": "code",
   "execution_count": 185,
   "id": "413d6f50-6f87-48fa-88ae-d2db8148582c",
   "metadata": {
    "tags": []
   },
   "outputs": [
    {
     "data": {
      "text/plain": [
       "4238     0\n",
       "4239     0\n",
       "4240     0\n",
       "4241     0\n",
       "4242     0\n",
       "        ..\n",
       "18265    1\n",
       "18266    1\n",
       "18267    1\n",
       "18268    1\n",
       "18269    1\n",
       "Length: 14032, dtype: int64"
      ]
     },
     "execution_count": 185,
     "metadata": {},
     "output_type": "execute_result"
    }
   ],
   "source": [
    "labels = get_labels(data, centroids)\n",
    "labels"
   ]
  },
  {
   "cell_type": "code",
   "execution_count": 186,
   "id": "ea424e0e-95e9-4e16-a5a6-ae12e6af160b",
   "metadata": {
    "tags": []
   },
   "outputs": [
    {
     "data": {
      "text/plain": [
       "0    8671\n",
       "1    3258\n",
       "2    2103\n",
       "Name: count, dtype: int64"
      ]
     },
     "execution_count": 186,
     "metadata": {},
     "output_type": "execute_result"
    }
   ],
   "source": [
    "labels.value_counts()"
   ]
  },
  {
   "cell_type": "markdown",
   "id": "c3526019-42d7-4fad-a460-ad83df312191",
   "metadata": {},
   "source": [
    "ADJUSTING THE CENTROIDS"
   ]
  },
  {
   "cell_type": "code",
   "execution_count": 187,
   "id": "2e53f363-28b1-4295-b511-0f5f92d73714",
   "metadata": {
    "tags": []
   },
   "outputs": [],
   "source": [
    "def new_centroid(data, labels, k):\n",
    "    return data.groupby(labels).apply(lambda x: np.exp(np.log(x).mean())).T"
   ]
  },
  {
   "cell_type": "code",
   "execution_count": 188,
   "id": "7d99a365-1320-4d11-9043-ee38fb41a8a0",
   "metadata": {
    "tags": []
   },
   "outputs": [],
   "source": [
    "from sklearn.decomposition import PCA\n",
    "import matplotlib.pyplot as plt\n",
    "from IPython.display import clear_output\n",
    "from sklearn.preprocessing import StandardScaler"
   ]
  },
  {
   "cell_type": "code",
   "execution_count": 189,
   "id": "ae592837-3a8c-499a-acfc-76bde69b139e",
   "metadata": {
    "tags": []
   },
   "outputs": [
    {
     "data": {
      "text/html": [
       "<div>\n",
       "<style scoped>\n",
       "    .dataframe tbody tr th:only-of-type {\n",
       "        vertical-align: middle;\n",
       "    }\n",
       "\n",
       "    .dataframe tbody tr th {\n",
       "        vertical-align: top;\n",
       "    }\n",
       "\n",
       "    .dataframe thead th {\n",
       "        text-align: right;\n",
       "    }\n",
       "</style>\n",
       "<table border=\"1\" class=\"dataframe\">\n",
       "  <thead>\n",
       "    <tr style=\"text-align: right;\">\n",
       "      <th></th>\n",
       "      <th>RHOB</th>\n",
       "      <th>NPHI</th>\n",
       "    </tr>\n",
       "  </thead>\n",
       "  <tbody>\n",
       "    <tr>\n",
       "      <th>4238</th>\n",
       "      <td>2.764332</td>\n",
       "      <td>9.601053</td>\n",
       "    </tr>\n",
       "    <tr>\n",
       "      <th>4239</th>\n",
       "      <td>2.929717</td>\n",
       "      <td>10.000000</td>\n",
       "    </tr>\n",
       "    <tr>\n",
       "      <th>4240</th>\n",
       "      <td>3.034558</td>\n",
       "      <td>9.602097</td>\n",
       "    </tr>\n",
       "    <tr>\n",
       "      <th>4241</th>\n",
       "      <td>3.107571</td>\n",
       "      <td>8.866305</td>\n",
       "    </tr>\n",
       "    <tr>\n",
       "      <th>4242</th>\n",
       "      <td>3.010451</td>\n",
       "      <td>8.137735</td>\n",
       "    </tr>\n",
       "    <tr>\n",
       "      <th>...</th>\n",
       "      <td>...</td>\n",
       "      <td>...</td>\n",
       "    </tr>\n",
       "    <tr>\n",
       "      <th>18265</th>\n",
       "      <td>8.132349</td>\n",
       "      <td>2.896205</td>\n",
       "    </tr>\n",
       "    <tr>\n",
       "      <th>18266</th>\n",
       "      <td>8.213302</td>\n",
       "      <td>2.870265</td>\n",
       "    </tr>\n",
       "    <tr>\n",
       "      <th>18267</th>\n",
       "      <td>8.452886</td>\n",
       "      <td>2.760068</td>\n",
       "    </tr>\n",
       "    <tr>\n",
       "      <th>18268</th>\n",
       "      <td>8.810741</td>\n",
       "      <td>2.743174</td>\n",
       "    </tr>\n",
       "    <tr>\n",
       "      <th>18269</th>\n",
       "      <td>9.153210</td>\n",
       "      <td>2.766480</td>\n",
       "    </tr>\n",
       "  </tbody>\n",
       "</table>\n",
       "<p>14032 rows × 2 columns</p>\n",
       "</div>"
      ],
      "text/plain": [
       "           RHOB       NPHI\n",
       "4238   2.764332   9.601053\n",
       "4239   2.929717  10.000000\n",
       "4240   3.034558   9.602097\n",
       "4241   3.107571   8.866305\n",
       "4242   3.010451   8.137735\n",
       "...         ...        ...\n",
       "18265  8.132349   2.896205\n",
       "18266  8.213302   2.870265\n",
       "18267  8.452886   2.760068\n",
       "18268  8.810741   2.743174\n",
       "18269  9.153210   2.766480\n",
       "\n",
       "[14032 rows x 2 columns]"
      ]
     },
     "execution_count": 189,
     "metadata": {},
     "output_type": "execute_result"
    }
   ],
   "source": [
    "data"
   ]
  },
  {
   "cell_type": "markdown",
   "id": "6d749b55-2eb1-4d3a-a1a7-3abe796441d3",
   "metadata": {},
   "source": [
    "PLOTTING THE CLUSTERS"
   ]
  },
  {
   "cell_type": "code",
   "execution_count": 190,
   "id": "39309991-6f83-44d2-bdaa-7fe8b5531fee",
   "metadata": {
    "tags": []
   },
   "outputs": [],
   "source": [
    "def plot_clusters(data, labels, centroids, iteration):\n",
    "    pca = PCA(n_components=2)\n",
    "    data_2d = pca.fit_transform(data)\n",
    "    centroids_2d = pca.transform(centroids.T) # transforming centroids to x and y for plotting\n",
    "    clear_output(wait=True)\n",
    "    plt.title(f'Iteration {iteration}')\n",
    "    plt.scatter(x=data_2d[:,0], y=data_2d[:,1], c=labels)\n",
    "    plt.scatter(x=centroids_2d[:,0], y=centroids_2d[:,1])\n",
    "    plt.show()"
   ]
  },
  {
   "cell_type": "markdown",
   "id": "36aa88c0-6c92-4aee-bb03-776b9b33d67a",
   "metadata": {},
   "source": [
    "ITERATING THE FUNCTION UNTIL CENTROIDS STABILIZE"
   ]
  },
  {
   "cell_type": "code",
   "execution_count": 191,
   "id": "22515069-a438-4ab5-94d1-f27a811b2147",
   "metadata": {
    "tags": []
   },
   "outputs": [
    {
     "data": {
      "image/png": "[encoded data removed]",
      "text/plain": [
       "<Figure size 640x480 with 1 Axes>"
      ]
     },
     "metadata": {},
     "output_type": "display_data"
    }
   ],
   "source": [
    "max_iterations = 100\n",
    "k = 3\n",
    "\n",
    "centroids = random_cenroids(data, k)\n",
    "old_centroids = pd.DataFrame()\n",
    "iteration = 1\n",
    "\n",
    "while iteration < max_iterations and not centroids.equals(old_centroids):\n",
    "    old_centroids = centroids\n",
    "    \n",
    "    labels = get_labels(data, centroids)\n",
    "    centroids = new_centroid(data, labels, k)\n",
    "    plot_clusters(data, labels, centroids, iteration)\n",
    "    iteration += 1"
   ]
  },
  {
   "cell_type": "code",
   "execution_count": 192,
   "id": "1865a27e-1a62-46b1-814b-0d7811db399e",
   "metadata": {},
   "outputs": [
    {
     "data": {
      "text/html": [
       "<div>\n",
       "<style scoped>\n",
       "    .dataframe tbody tr th:only-of-type {\n",
       "        vertical-align: middle;\n",
       "    }\n",
       "\n",
       "    .dataframe tbody tr th {\n",
       "        vertical-align: top;\n",
       "    }\n",
       "\n",
       "    .dataframe thead th {\n",
       "        text-align: right;\n",
       "    }\n",
       "</style>\n",
       "<table border=\"1\" class=\"dataframe\">\n",
       "  <thead>\n",
       "    <tr style=\"text-align: right;\">\n",
       "      <th></th>\n",
       "      <th>0</th>\n",
       "      <th>1</th>\n",
       "      <th>2</th>\n",
       "    </tr>\n",
       "  </thead>\n",
       "  <tbody>\n",
       "    <tr>\n",
       "      <th>RHOB</th>\n",
       "      <td>4.603146</td>\n",
       "      <td>3.300780</td>\n",
       "      <td>7.149991</td>\n",
       "    </tr>\n",
       "    <tr>\n",
       "      <th>NPHI</th>\n",
       "      <td>6.173628</td>\n",
       "      <td>6.936916</td>\n",
       "      <td>3.560975</td>\n",
       "    </tr>\n",
       "  </tbody>\n",
       "</table>\n",
       "</div>"
      ],
      "text/plain": [
       "             0         1         2\n",
       "RHOB  4.603146  3.300780  7.149991\n",
       "NPHI  6.173628  6.936916  3.560975"
      ]
     },
     "execution_count": 192,
     "metadata": {},
     "output_type": "execute_result"
    }
   ],
   "source": [
    "centroids"
   ]
  },
  {
   "cell_type": "code",
   "execution_count": null,
   "id": "e4155ecf-2edc-4d86-b7cf-3d5105c4eefa",
   "metadata": {
    "tags": []
   },
   "outputs": [],
   "source": []
  },
  {
   "cell_type": "code",
   "execution_count": null,
   "id": "e723ddf4-0472-475d-9489-984fd2a8f0c2",
   "metadata": {},
   "outputs": [],
   "source": []
  }
 ],
 "metadata": {
  "kernelspec": {
   "display_name": "practice",
   "language": "python",
   "name": "practice"
  },
  "language_info": {
   "codemirror_mode": {
    "name": "ipython",
    "version": 3
   },
   "file_extension": ".py",
   "mimetype": "text/x-python",
   "name": "python",
   "nbconvert_exporter": "python",
   "pygments_lexer": "ipython3",
   "version": "3.8.1"
  }
 },
 "nbformat": 4,
 "nbformat_minor": 5
}
